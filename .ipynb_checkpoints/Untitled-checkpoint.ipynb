{
 "cells": [
  {
   "cell_type": "code",
   "execution_count": null,
   "id": "5979dd81-4655-4f9f-916e-ea2527b13004",
   "metadata": {},
   "outputs": [],
   "source": [
    "import cv2\n",
    "import glob\n",
    "import os"
   ]
  },
  {
   "cell_type": "code",
   "execution_count": null,
   "id": "39cf7130-7219-4b28-967e-c6cc6abd8cdf",
   "metadata": {},
   "outputs": [],
   "source": [
    "IMAGE_ROOT = \"find_phone\""
   ]
  },
  {
   "cell_type": "code",
   "execution_count": 10,
   "id": "9dc77c13-8bef-4a4d-ad46-6a4d22214547",
   "metadata": {},
   "outputs": [],
   "source": [
    "image_paths = glob.glob(os.path.join(PATH, \"*.jpg\"))"
   ]
  },
  {
   "cell_type": "code",
   "execution_count": null,
   "id": "3154a819-5125-4f68-a45a-daf1075bb420",
   "metadata": {},
   "outputs": [],
   "source": []
  }
 ],
 "metadata": {
  "kernelspec": {
   "display_name": "Python 3 (ipykernel)",
   "language": "python",
   "name": "python3"
  },
  "language_info": {
   "codemirror_mode": {
    "name": "ipython",
    "version": 3
   },
   "file_extension": ".py",
   "mimetype": "text/x-python",
   "name": "python",
   "nbconvert_exporter": "python",
   "pygments_lexer": "ipython3",
   "version": "3.10.4"
  }
 },
 "nbformat": 4,
 "nbformat_minor": 5
}
