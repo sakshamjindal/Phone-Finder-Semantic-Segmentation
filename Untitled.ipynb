{
 "cells": [
  {
   "cell_type": "code",
   "execution_count": null,
   "id": "5979dd81-4655-4f9f-916e-ea2527b13004",
   "metadata": {},
   "outputs": [],
   "source": [
    "import glob\n",
    "import os\n",
    "\n",
    "import cv2\n",
    "import matplotlib.pyplot as plt\n",
    "from PIL import Image\n",
    "import numpy as np\n",
    "\n",
    "import torch\n",
    "import torchvision"
   ]
  },
  {
   "cell_type": "code",
   "execution_count": 6,
   "id": "39cf7130-7219-4b28-967e-c6cc6abd8cdf",
   "metadata": {},
   "outputs": [],
   "source": [
    "IMAGE_ROOT = \"find_phone\""
   ]
  },
  {
   "cell_type": "code",
   "execution_count": 8,
   "id": "9dc77c13-8bef-4a4d-ad46-6a4d22214547",
   "metadata": {},
   "outputs": [],
   "source": [
    "image_paths = glob.glob(os.path.join(IMAGE_ROOT, \"*.jpg\"))\n",
    "\n",
    "train_images = [np.array(Image.open(x)) for x in image_paths]"
   ]
  },
  {
   "cell_type": "code",
   "execution_count": 9,
   "id": "3154a819-5125-4f68-a45a-daf1075bb420",
   "metadata": {},
   "outputs": [
    {
     "ename": "NameError",
     "evalue": "name 'train_dataset' is not defined",
     "output_type": "error",
     "traceback": [
      "\u001b[0;31m---------------------------------------------------------------------------\u001b[0m",
      "\u001b[0;31mNameError\u001b[0m                                 Traceback (most recent call last)",
      "Cell \u001b[0;32mIn [9], line 5\u001b[0m\n\u001b[1;32m      3\u001b[0m sample_masks \u001b[38;5;241m=\u001b[39m []\n\u001b[1;32m      4\u001b[0m \u001b[38;5;28;01mfor\u001b[39;00m i \u001b[38;5;129;01min\u001b[39;00m sample_indices:\n\u001b[0;32m----> 5\u001b[0m     image, mask \u001b[38;5;241m=\u001b[39m train_dataset[i]\n\u001b[1;32m      6\u001b[0m     sample_images\u001b[38;5;241m.\u001b[39mappend(image)\n\u001b[1;32m      7\u001b[0m     sample_masks\u001b[38;5;241m.\u001b[39mappend(mask\u001b[38;5;241m.\u001b[39munsqueeze(\u001b[38;5;241m0\u001b[39m))\n",
      "\u001b[0;31mNameError\u001b[0m: name 'train_dataset' is not defined"
     ]
    }
   ],
   "source": [
    "sample_indices = np.random.choice(len(train_images), size=9, replace=False)\n",
    "\n",
    "plt.figure(figsize=(18, 18))\n",
    "plt.imshow(torchvision.utils.make_grid(sample_images, nrow=3).permute(1, 2, 0).cpu().numpy())"
   ]
  },
  {
   "cell_type": "code",
   "execution_count": 11,
   "id": "c5f6b3a0-902c-4325-858d-7c60c9d77117",
   "metadata": {},
   "outputs": [
    {
     "data": {
      "text/plain": [
       "array([ 30,  53, 112,  49,  65,  89, 104, 118,  39])"
      ]
     },
     "execution_count": 11,
     "metadata": {},
     "output_type": "execute_result"
    }
   ],
   "source": [
    "sample_indices"
   ]
  },
  {
   "cell_type": "code",
   "execution_count": null,
   "id": "c77a4fab-f686-4393-bee6-0df2088621b2",
   "metadata": {},
   "outputs": [],
   "source": []
  }
 ],
 "metadata": {
  "kernelspec": {
   "display_name": "Python 3 (ipykernel)",
   "language": "python",
   "name": "python3"
  },
  "language_info": {
   "codemirror_mode": {
    "name": "ipython",
    "version": 3
   },
   "file_extension": ".py",
   "mimetype": "text/x-python",
   "name": "python",
   "nbconvert_exporter": "python",
   "pygments_lexer": "ipython3",
   "version": "3.10.6"
  }
 },
 "nbformat": 4,
 "nbformat_minor": 5
}
